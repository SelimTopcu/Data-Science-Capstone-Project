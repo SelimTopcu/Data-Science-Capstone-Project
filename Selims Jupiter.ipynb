{
    "cells": [
        {
            "cell_type": "markdown",
            "metadata": {
                "collapsed": true
            },
            "source": "# My Jupyter Notebook on IBM Watson Studio"
        },
        {
            "cell_type": "markdown",
            "metadata": {},
            "source": "**Selim Topcu**\n\nSupport Medewerker at Rabobank"
        },
        {
            "cell_type": "markdown",
            "metadata": {},
            "source": "*I am interested in data science because because I love it and I want to be a data analyst.*"
        },
        {
            "cell_type": "markdown",
            "metadata": {},
            "source": "### The below code multiplies 2 plus 2."
        },
        {
            "cell_type": "code",
            "execution_count": 2,
            "metadata": {},
            "outputs": [
                {
                    "name": "stdout",
                    "output_type": "stream",
                    "text": "4\n"
                }
            ],
            "source": "x=2+2\nprint(x)"
        },
        {
            "cell_type": "markdown",
            "metadata": {},
            "source": "<a href=\"https://dataplatform.cloud.ibm.com/gallery\">IBM Cloud Gallery</a> "
        },
        {
            "cell_type": "markdown",
            "metadata": {},
            "source": "| Age | Weight |\n| ------ | ------ |\n| 29 | 70 |"
        },
        {
            "cell_type": "markdown",
            "metadata": {},
            "source": "~~consider this deleted~~"
        },
        {
            "cell_type": "code",
            "execution_count": null,
            "metadata": {},
            "outputs": [],
            "source": ""
        }
    ],
    "metadata": {
        "kernelspec": {
            "display_name": "Python 3.10",
            "language": "python",
            "name": "python3"
        },
        "language_info": {
            "codemirror_mode": {
                "name": "ipython",
                "version": 3
            },
            "file_extension": ".py",
            "mimetype": "text/x-python",
            "name": "python",
            "nbconvert_exporter": "python",
            "pygments_lexer": "ipython3",
            "version": "3.10.13"
        }
    },
    "nbformat": 4,
    "nbformat_minor": 1
}